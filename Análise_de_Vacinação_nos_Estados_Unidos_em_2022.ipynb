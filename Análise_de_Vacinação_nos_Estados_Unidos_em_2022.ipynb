{
  "metadata": {
    "kernelspec": {
      "name": "python",
      "display_name": "Python (Pyodide)",
      "language": "python"
    },
    "language_info": {
      "codemirror_mode": {
        "name": "python",
        "version": 3
      },
      "file_extension": ".py",
      "mimetype": "text/x-python",
      "name": "python",
      "nbconvert_exporter": "python",
      "pygments_lexer": "ipython3",
      "version": "3.8"
    }
  },
  "nbformat_minor": 5,
  "nbformat": 4,
  "cells": [
    {
      "id": "324d2c20-64fd-483e-9600-cc01c6d6a3c9",
      "cell_type": "code",
      "source": "# Análise de vacinação nos Estados Unidos\n<sub>TAGS: Análise Exploratória de Dados; Mineração de Dados; Redução de Dimensionalidade; Visualização de Dados; Filtragem de Dados; Seleção de Atributos; Data Storytelling\n\n<p align=\"center\">\n  <img src=\"Capa_flu_Dash.png\" >\n</p>\n",
      "metadata": {
        "trusted": true
      },
      "outputs": [],
      "execution_count": null
    }
  ]
}